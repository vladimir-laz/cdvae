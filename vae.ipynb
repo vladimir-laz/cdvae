{
 "cells": [
  {
   "cell_type": "code",
   "execution_count": 1,
   "id": "ccf61b89",
   "metadata": {},
   "outputs": [],
   "source": [
    "import torch"
   ]
  },
  {
   "cell_type": "code",
   "execution_count": 12,
   "id": "a3dfdc40",
   "metadata": {},
   "outputs": [],
   "source": [
    "# load encoder\n",
    "from cdvae.pl_modules.gnn import GemNetTEncoder\n",
    "# load decoder\n",
    "from cdvae.pl_modules.decoder import GemNetTDecoder\n",
    "# load cdvae\n",
    "from cdvae.pl_modules.model import CDVAE"
   ]
  },
  {
   "cell_type": "code",
   "execution_count": 13,
   "id": "18ae2bb5",
   "metadata": {
    "scrolled": true
   },
   "outputs": [],
   "source": [
    "# !pip install torch-geometric\n",
    "# !pip install torch-sparse\n",
    "# !pip install hydra-core --upgrade\n",
    "# !pip install pytorch-lightning\n",
    "# !pip install python-dotenv"
   ]
  },
  {
   "cell_type": "code",
   "execution_count": 17,
   "id": "9874f003",
   "metadata": {},
   "outputs": [
    {
     "name": "stderr",
     "output_type": "stream",
     "text": [
      "UsageError: %%bash is a cell magic, but the cell body is empty.\n"
     ]
    }
   ],
   "source": [
    "%%bash\n"
   ]
  },
  {
   "cell_type": "code",
   "execution_count": null,
   "id": "d69128c9",
   "metadata": {},
   "outputs": [],
   "source": []
  },
  {
   "cell_type": "code",
   "execution_count": null,
   "id": "6cbd6b06",
   "metadata": {},
   "outputs": [],
   "source": []
  }
 ],
 "metadata": {
  "kernelspec": {
   "display_name": "cdvae0",
   "language": "python",
   "name": "cdvae0"
  },
  "language_info": {
   "codemirror_mode": {
    "name": "ipython",
    "version": 3
   },
   "file_extension": ".py",
   "mimetype": "text/x-python",
   "name": "python",
   "nbconvert_exporter": "python",
   "pygments_lexer": "ipython3",
   "version": "3.9.7"
  }
 },
 "nbformat": 4,
 "nbformat_minor": 5
}
